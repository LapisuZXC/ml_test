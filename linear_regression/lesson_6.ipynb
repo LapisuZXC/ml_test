{
 "cells": [
  {
   "cell_type": "markdown",
   "id": "23440d3e",
   "metadata": {},
   "source": [
    "## Задание 1\n",
    "\n",
    "Какое из утверждений о Ridge и Lasso регуляризациях является верным?\n",
    "\n",
    "1. Ridge-регуляризация склонна занулять веса модели.\n",
    "2. Lasso-регуляризация склонна занулять веса модели.\n",
    "3. Ridge и Lasso регуляризация используются для борьбы с переобучением.\n",
    "4. Lasso регуляризация прибавляет сумму модулей коэффициентов к минимизируемому функционалу.\n",
    "5. Ridge регуляризация прибавляет сумму квадратов коэффициентов к минимизируемому функционалу.\n",
    "\n",
    "Укажите номера верных утверждений."
   ]
  },
  {
   "cell_type": "markdown",
   "id": "3cecf4ea",
   "metadata": {},
   "source": [
    "## Задание 2\n",
    "\n",
    "Какие из утверждений о мультиколлинеарности являются верными?\n",
    "\n",
    "1. Мультиколлинеарность всегда приводит к переобучению.\n",
    "2. Она возникает при сильной линейной зависимости признаков.\n",
    "3. Если признаки линейно зависимы, то матричную формулу оптимальных коэффициентов применить нельзя с вероятностью 50%.\n",
    "4. Линейная зависимость приводит к 2-3 точкам минимума функционала.\n",
    "5. Линейная зависимость приводит к бесконечному числу точек минимума.\n",
    "6. Проблему мультиколлинеарности можно устранить, удалив зависимые признаки или применив регуляризацию.\n",
    "\n",
    "Укажите номера верных утверждений."
   ]
  },
  {
   "cell_type": "markdown",
   "id": "2a201522",
   "metadata": {},
   "source": [
    "## Задание 3\n",
    "\n",
    "Какие из утверждений о масштабировании признаков верны?\n",
    "\n",
    "1. Масштабирование обязательно, иначе качество модели на трейне будет сильно превышать качество на тесте.\n",
    "2. Масштабирование помогает ускорить метод градиентного спуска.\n",
    "3. Регуляризация моделей требует масштабирования для равномерного штрафа коэффициентов.\n",
    "4. StandardScaler переводит значения признаков в интервал [0; 1].\n",
    "5. MinMaxScaler переводит значения признаков в интервал [0; 1].\n",
    "\n",
    "Укажите номера верных утверждений."
   ]
  },
  {
   "cell_type": "markdown",
   "id": "314a5b40",
   "metadata": {},
   "source": [
    "## Задание 4\n",
    "\n",
    "Выполните кросс-валидацию на 4 фолдах для линейной регрессии, используя данные из `processed_data.csv`. \n",
    "Вычислите метрику RMSLE.\n",
    "\n",
    "```python\n",
    "# your code here\n",
    "```"
   ]
  },
  {
   "cell_type": "code",
   "execution_count": 2,
   "id": "994e9901",
   "metadata": {},
   "outputs": [],
   "source": [
    "import pandas as pd\n",
    "import numpy as np"
   ]
  },
  {
   "cell_type": "code",
   "execution_count": 3,
   "id": "039b1f2c",
   "metadata": {},
   "outputs": [],
   "source": [
    "from sklearn.model_selection import KFold, cross_validate, train_test_split\n",
    "from sklearn.linear_model import LinearRegression\n",
    "df = pd.read_csv('./5 processed_data.csv', index_col='id')\n",
    "df = df.assign(log_trip_duration=np.log1p(df['trip_duration']))\n",
    "df = df.drop('trip_duration', axis=1)\n",
    "X = df.drop(columns='log_trip_duration')\n",
    "y = df['log_trip_duration']\n",
    "X_train, X_test, y_train, y_test = train_test_split(X,y,test_size=0.2,random_state=33)\n"
   ]
  },
  {
   "cell_type": "code",
   "execution_count": 4,
   "id": "493801d5",
   "metadata": {},
   "outputs": [
    {
     "data": {
      "text/plain": [
       "np.float64(0.4189025454147206)"
      ]
     },
     "execution_count": 4,
     "metadata": {},
     "output_type": "execute_result"
    }
   ],
   "source": [
    "model = LinearRegression()\n",
    "splitter = KFold(n_splits=4,shuffle=True,random_state=42)\n",
    "cv_r = cross_validate(model, X_train,y_train,scoring='neg_mean_squared_error',return_train_score=True)\n",
    "-np.mean(cv_r['test_score'])"
   ]
  },
  {
   "cell_type": "markdown",
   "id": "fd4d1253",
   "metadata": {},
   "source": [
    "## Задание 5\n",
    "\n",
    "Гном добавил 20 зашифрованных фичей к данным. Проверьте, как это повлияет на качество модели. Используйте данные `new_data.csv`.\n",
    "\n",
    "Выполните кросс-валидацию и вычислите метрику RMSLE.\n",
    "\n",
    "```python\n",
    "# your code here\n",
    "```"
   ]
  },
  {
   "cell_type": "code",
   "execution_count": null,
   "id": "000e23b6",
   "metadata": {},
   "outputs": [],
   "source": []
  },
  {
   "cell_type": "markdown",
   "id": "2dd0d75b",
   "metadata": {},
   "source": [
    "## Задание 6\n",
    "\n",
    "Найдите ранг матриц объект-признак для `processed_data` и `new_data`. Используйте функцию `numpy.linalg.matrix_rank`.\n",
    "\n",
    "```python\n",
    "# your code here\n",
    "```"
   ]
  },
  {
   "cell_type": "code",
   "execution_count": null,
   "id": "85ee4635",
   "metadata": {},
   "outputs": [],
   "source": []
  },
  {
   "cell_type": "markdown",
   "id": "af5c1d45",
   "metadata": {},
   "source": [
    "## Задание 7\n",
    "\n",
    "Проверьте, можно ли улучшить модель, добавив регуляризацию. Найдите параметр $\\lambda$ для Lasso регуляризации, при котором RMSLE окажется меньше 0.4. Используйте `MinMaxScaler` для масштабирования данных.\n",
    "\n",
    "```python\n",
    "# your code here\n",
    "```"
   ]
  },
  {
   "cell_type": "code",
   "execution_count": null,
   "id": "2a6c540b",
   "metadata": {},
   "outputs": [],
   "source": []
  },
  {
   "cell_type": "markdown",
   "id": "ea5a96e4",
   "metadata": {},
   "source": [
    "## Задание 8\n",
    "\n",
    "Повторите задачу 7, используя Ridge регуляризацию вместо Lasso.\n",
    "\n",
    "```python\n",
    "# your code here\n",
    "```"
   ]
  },
  {
   "cell_type": "code",
   "execution_count": null,
   "id": "855b3bc0",
   "metadata": {},
   "outputs": [],
   "source": []
  }
 ],
 "metadata": {
  "jupytext": {
   "cell_metadata_filter": "-all",
   "main_language": "python",
   "notebook_metadata_filter": "-all"
  },
  "kernelspec": {
   "display_name": "myenv",
   "language": "python",
   "name": "python3"
  },
  "language_info": {
   "codemirror_mode": {
    "name": "ipython",
    "version": 3
   },
   "file_extension": ".py",
   "mimetype": "text/x-python",
   "name": "python",
   "nbconvert_exporter": "python",
   "pygments_lexer": "ipython3",
   "version": "3.12.7"
  }
 },
 "nbformat": 4,
 "nbformat_minor": 5
}
